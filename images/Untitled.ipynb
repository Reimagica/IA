{
 "cells": [
  {
   "cell_type": "code",
   "execution_count": 6,
   "id": "2af05c61",
   "metadata": {},
   "outputs": [],
   "source": [
    "import pandas as pd\n",
    "\n",
    "# 读取Excel文件\n",
    "excel_data = pd.read_excel('en.xlsx', header=None)  # 假设eee.xlsx没有表头\n",
    "\n",
    "# 读取template.txt文件\n",
    "with open('template.txt', 'r', encoding='utf-8') as file:\n",
    "    template = file.read()\n",
    "\n",
    "# 对每行数据进行迭代\n",
    "for index, row in excel_data.iterrows():\n",
    "    # 替换template中的内容\n",
    "    new_text = template.replace(\"韩式石锅拌饭\", row[0])\n",
    "    new_text = new_text.replace(\"家园二楼日韩窗口\", row[1])\n",
    "    new_text = new_text.replace(\"甜辣\", row[3])\n",
    "    new_text = new_text.replace(\"10\", str(row[4]))\n",
    "    new_text = new_text.replace(\"拌饭\", row[2])\n",
    "    new_text = new_text.replace(\"人气火爆\", row[5])\n",
    "    new_text = new_text.replace(\"豆芽\", row[6])\n",
    "    new_text = new_text.replace(\"map11.png\", row[8])\n",
    "\n",
    "    # 保存新文本到文件\n",
    "    new_filename = f\"{row[7]}.txt\"\n",
    "    with open(new_filename, 'w', encoding='utf-8') as new_file:\n",
    "        new_file.write(new_text)\n",
    "\n",
    "    # 生成116个文件后停止\n",
    "    if index == 115:\n",
    "        break\n"
   ]
  },
  {
   "cell_type": "code",
   "execution_count": 7,
   "id": "bac4daf2",
   "metadata": {},
   "outputs": [
    {
     "data": {
      "text/plain": [
       "'所有的 .txt 文件已被重命名为 .html 文件。'"
      ]
     },
     "execution_count": 7,
     "metadata": {},
     "output_type": "execute_result"
    }
   ],
   "source": [
    "import os\n",
    "\n",
    "# Change the extension of all .txt files in the current directory to .html\n",
    "for filename in os.listdir('.'):\n",
    "    if filename.endswith('.txt'):\n",
    "        base = os.path.splitext(filename)[0]\n",
    "        new_filename = base + '.html'\n",
    "        os.rename(filename, new_filename)\n",
    "\n",
    "\"所有的 .txt 文件已被重命名为 .html 文件。\""
   ]
  },
  {
   "cell_type": "code",
   "execution_count": null,
   "id": "c50c997c",
   "metadata": {},
   "outputs": [],
   "source": []
  }
 ],
 "metadata": {
  "kernelspec": {
   "display_name": "Python 3 (ipykernel)",
   "language": "python",
   "name": "python3"
  },
  "language_info": {
   "codemirror_mode": {
    "name": "ipython",
    "version": 3
   },
   "file_extension": ".py",
   "mimetype": "text/x-python",
   "name": "python",
   "nbconvert_exporter": "python",
   "pygments_lexer": "ipython3",
   "version": "3.9.13"
  }
 },
 "nbformat": 4,
 "nbformat_minor": 5
}
